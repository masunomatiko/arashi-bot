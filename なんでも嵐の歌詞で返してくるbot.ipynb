{
  "nbformat": 4,
  "nbformat_minor": 0,
  "metadata": {
    "colab": {
      "name": "なんでも嵐の歌詞で返してくるbot.ipynb",
      "provenance": [],
      "authorship_tag": "ABX9TyMh3GZh687zi5PTDDJq+fHu",
      "include_colab_link": true
    },
    "kernelspec": {
      "name": "python3",
      "display_name": "Python 3"
    }
  },
  "cells": [
    {
      "cell_type": "markdown",
      "metadata": {
        "id": "view-in-github",
        "colab_type": "text"
      },
      "source": [
        "<a href=\"https://colab.research.google.com/github/masunomatiko/arashi-bot/blob/master/%E3%81%AA%E3%82%93%E3%81%A7%E3%82%82%E5%B5%90%E3%81%AE%E6%AD%8C%E8%A9%9E%E3%81%A7%E8%BF%94%E3%81%97%E3%81%A6%E3%81%8F%E3%82%8Bbot.ipynb\" target=\"_parent\"><img src=\"https://colab.research.google.com/assets/colab-badge.svg\" alt=\"Open In Colab\"/></a>"
      ]
    },
    {
      "cell_type": "code",
      "metadata": {
        "id": "sJH_apgdKevj",
        "colab_type": "code",
        "colab": {
          "base_uri": "https://localhost:8080/",
          "height": 479
        },
        "outputId": "e038b22f-cc68-4393-ebb9-311423c5a39d"
      },
      "source": [
        "! apt install aptitude\n",
        "!aptitude install mecab libmecab-dev mecab-ipadic-utf8 git make curl xz-utils file -y\n",
        "!pip install mecab-python3"
      ],
      "execution_count": 2,
      "outputs": [
        {
          "output_type": "stream",
          "text": [
            "Reading package lists... Done\n",
            "Building dependency tree       \n",
            "Reading state information... Done\n",
            "aptitude is already the newest version (0.8.10-6ubuntu1).\n",
            "0 upgraded, 0 newly installed, 0 to remove and 25 not upgraded.\n",
            "mecab is already installed at the requested version (0.996-5)\n",
            "libmecab-dev is already installed at the requested version (0.996-5)\n",
            "mecab-ipadic-utf8 is already installed at the requested version (2.7.0-20070801+main-1)\n",
            "git is already installed at the requested version (1:2.17.1-1ubuntu0.5)\n",
            "make is already installed at the requested version (4.1-9.1ubuntu1)\n",
            "curl is already installed at the requested version (7.58.0-2ubuntu3.8)\n",
            "xz-utils is already installed at the requested version (5.2.2-1.3)\n",
            "file is already installed at the requested version (1:5.32-2ubuntu0.3)\n",
            "mecab is already installed at the requested version (0.996-5)\n",
            "libmecab-dev is already installed at the requested version (0.996-5)\n",
            "mecab-ipadic-utf8 is already installed at the requested version (2.7.0-20070801+main-1)\n",
            "git is already installed at the requested version (1:2.17.1-1ubuntu0.5)\n",
            "make is already installed at the requested version (4.1-9.1ubuntu1)\n",
            "curl is already installed at the requested version (7.58.0-2ubuntu3.8)\n",
            "xz-utils is already installed at the requested version (5.2.2-1.3)\n",
            "file is already installed at the requested version (1:5.32-2ubuntu0.3)\n",
            "No packages will be installed, upgraded, or removed.\n",
            "0 packages upgraded, 0 newly installed, 0 to remove and 25 not upgraded.\n",
            "Need to get 0 B of archives. After unpacking 0 B will be used.\n",
            "                            \n",
            "Requirement already satisfied: mecab-python3 in /usr/local/lib/python3.6/dist-packages (0.996.3)\n"
          ],
          "name": "stdout"
        }
      ]
    },
    {
      "cell_type": "code",
      "metadata": {
        "id": "WjDA3rPMD1-1",
        "colab_type": "code",
        "colab": {}
      },
      "source": [
        "import requests\n",
        "import pandas as pd\n",
        "import re\n",
        "import MeCab"
      ],
      "execution_count": 0,
      "outputs": []
    },
    {
      "cell_type": "code",
      "metadata": {
        "id": "sBBo5vs7EE96",
        "colab_type": "code",
        "colab": {}
      },
      "source": [
        "base = 'https://www.uta-net.com'\n",
        "links = []\n",
        "for page in [1, 2]:\n",
        "    url = f'https://www.uta-net.com/artist/3891/0/{page}/'\n",
        "    res = requests.get(url)\n",
        "    links += re.findall(r'/song/[0-9]+/', res.text)\n"
      ],
      "execution_count": 0,
      "outputs": []
    },
    {
      "cell_type": "code",
      "metadata": {
        "id": "h6v8fikbE8Y6",
        "colab_type": "code",
        "colab": {}
      },
      "source": [
        "# for link in links:\n",
        "link = links[1]\n",
        "url = base + link\n",
        "res = requests.get(url)\n",
        "# kashi = res.text"
      ],
      "execution_count": 0,
      "outputs": []
    },
    {
      "cell_type": "code",
      "metadata": {
        "id": "sxEqHtEXFpg5",
        "colab_type": "code",
        "colab": {}
      },
      "source": [
        "kashi = [line for line in re.findall(r'<div id=\"kashi_area\" itemprop=\"text\">(.*)</div>', res.text)[0]\\\n",
        "         .replace('\\u3000', ' ')\\\n",
        "        #  .replace('<br />', ' ')\\\n",
        "         .split('<br />')\\\n",
        "         if len(line) > 0]"
      ],
      "execution_count": 0,
      "outputs": []
    },
    {
      "cell_type": "code",
      "metadata": {
        "id": "A69oBQtuIuIe",
        "colab_type": "code",
        "colab": {
          "base_uri": "https://localhost:8080/",
          "height": 986
        },
        "outputId": "252784f9-3051-49d7-f7ec-a087596cff6d"
      },
      "source": [
        "kashi"
      ],
      "execution_count": 7,
      "outputs": [
        {
          "output_type": "execute_result",
          "data": {
            "text/plain": [
              "['どんな出来事にも',\n",
              " 'それなりに そう 意味があるさ',\n",
              " 'こんな謎だらけの若さ',\n",
              " '早くヤメにしたいよ',\n",
              " '寝起きがわるいのも',\n",
              " 'みみたぶ火照(ほて)るのも わけあり',\n",
              " '不器用に今日を行こう',\n",
              " 'Shake it Shake it Baby',\n",
              " '街角のにぎやかさに',\n",
              " 'のれなくて困る時がある',\n",
              " 'クツズレのせいにしてる',\n",
              " '気がかりは何? 聞かないで',\n",
              " 'コンビニの雑誌コーナーで',\n",
              " 'となり合った他人どうし',\n",
              " 'わけのわからない やるせなさ',\n",
              " 'キレないように',\n",
              " '越えてこうぜ',\n",
              " 'どんな出来事にも',\n",
              " 'それなりに そう 意味があるさ',\n",
              " 'へんな人にアクセスされて',\n",
              " 'バランスをくずしそう',\n",
              " '誰もが迷子だね',\n",
              " '誰もがひたむきに わけあり',\n",
              " 'たましいは輝きたい',\n",
              " 'Shake it Shake it Baby',\n",
              " '他のヤツが好きな君を',\n",
              " '眼が覚めてすぐに思い出す',\n",
              " 'エネルギーが やせてしぼむ',\n",
              " '今日も歯ぐきがはれている',\n",
              " 'どうしようもない せつなさは',\n",
              " '誰の真上にも降るから',\n",
              " 'はじめて さかあがりが出来た',\n",
              " '遠い夏を',\n",
              " '思い出すよ',\n",
              " 'どんな出来事にも',\n",
              " 'それなりに そう 意味があるさ',\n",
              " 'こんな謎だらけの若さ',\n",
              " '早くヤメにしたいよ',\n",
              " '寝起きがわるいのも',\n",
              " 'みみたぶ火照(ほて)るのも わけあり',\n",
              " '不器用に今日を行こう',\n",
              " 'Shake it Shake it Baby…talata…',\n",
              " 'Shake it Shake it Baby',\n",
              " 'どんな出来事にも',\n",
              " 'それなりに そう 意味があるさ',\n",
              " 'へんな人にアクセスされて',\n",
              " 'バランスをくずしそう',\n",
              " '誰もが迷子だね',\n",
              " '誰もがひたむきに わけあり',\n",
              " 'たましいは輝きたい',\n",
              " 'Shake it Shake it Baby',\n",
              " 'Reason もどかしすぎるSeason',\n",
              " 'Reason 知りたいことは見えない',\n",
              " 'Reason あこがれてたいHorizon',\n",
              " 'Reason 真実が見渡せる場所',\n",
              " 'Reason いつかみつけるFortune',\n",
              " 'Reason いとおしい自分でいよう']"
            ]
          },
          "metadata": {
            "tags": []
          },
          "execution_count": 7
        }
      ]
    },
    {
      "cell_type": "code",
      "metadata": {
        "id": "Bxdr-KpyI1-k",
        "colab_type": "code",
        "colab": {}
      },
      "source": [
        "tagger = MeCab.Tagger(\"-Owakati\")"
      ],
      "execution_count": 0,
      "outputs": []
    },
    {
      "cell_type": "code",
      "metadata": {
        "id": "wvVgFei9LRJV",
        "colab_type": "code",
        "colab": {}
      },
      "source": [
        "semantic_kashi = []\n",
        "skip = False\n",
        "tmp = ''"
      ],
      "execution_count": 0,
      "outputs": []
    },
    {
      "cell_type": "code",
      "metadata": {
        "id": "56jVVF6eLWDI",
        "colab_type": "code",
        "colab": {
          "base_uri": "https://localhost:8080/",
          "height": 1000
        },
        "outputId": "8ef6cf34-8ee6-4ff5-dac5-c4eb338d60f4"
      },
      "source": [
        "for phrase in kashi:\n",
        "    node = tagger.parseToNode(phrase)\n",
        "    while node:\n",
        "        if node.feature.split(',')[1] in ['接続助詞', '係助詞']:\n",
        "            skip = True\n",
        "            tmp += phrase\n",
        "            print(tmp)\n",
        "        else:\n",
        "            skip = False\n",
        "\n",
        "        node = node.next\n",
        "    if not skip:\n",
        "        semantic_kashi.append(tmp + ' ' + phrase)\n",
        "        skip = False\n",
        "        tmp = ''\n",
        "kashi"
      ],
      "execution_count": 51,
      "outputs": [
        {
          "output_type": "stream",
          "text": [
            "どんな出来事にも\n",
            "寝起きがわるいのも\n",
            "みみたぶ火照(ほて)るのも わけあり\n",
            "のれなくて困る時がある\n",
            "気がかりは何? 聞かないで\n",
            "気がかりは何? 聞かないで気がかりは何? 聞かないで\n",
            "越えてこうぜ\n",
            "どんな出来事にも\n",
            "へんな人にアクセスされて\n",
            "誰もが迷子だね\n",
            "誰もがひたむきに わけあり\n",
            "たましいは輝きたい\n",
            "眼が覚めてすぐに思い出す\n",
            "エネルギーが やせてしぼむ\n",
            "今日も歯ぐきがはれている\n",
            "今日も歯ぐきがはれている今日も歯ぐきがはれている\n",
            "どうしようもない せつなさは\n",
            "どうしようもない せつなさはどうしようもない せつなさは\n",
            "誰の真上にも降るから\n",
            "誰の真上にも降るから誰の真上にも降るから\n",
            "どんな出来事にも\n",
            "寝起きがわるいのも\n",
            "みみたぶ火照(ほて)るのも わけあり\n",
            "どんな出来事にも\n",
            "へんな人にアクセスされて\n",
            "誰もが迷子だね\n",
            "誰もがひたむきに わけあり\n",
            "たましいは輝きたい\n",
            "Reason もどかしすぎるSeason\n",
            "Reason 知りたいことは見えない\n"
          ],
          "name": "stdout"
        },
        {
          "output_type": "execute_result",
          "data": {
            "text/plain": [
              "['どんな出来事にも',\n",
              " 'それなりに そう 意味があるさ',\n",
              " 'こんな謎だらけの若さ',\n",
              " '早くヤメにしたいよ',\n",
              " '寝起きがわるいのも',\n",
              " 'みみたぶ火照(ほて)るのも わけあり',\n",
              " '不器用に今日を行こう',\n",
              " 'Shake it Shake it Baby',\n",
              " '街角のにぎやかさに',\n",
              " 'のれなくて困る時がある',\n",
              " 'クツズレのせいにしてる',\n",
              " '気がかりは何? 聞かないで',\n",
              " 'コンビニの雑誌コーナーで',\n",
              " 'となり合った他人どうし',\n",
              " 'わけのわからない やるせなさ',\n",
              " 'キレないように',\n",
              " '越えてこうぜ',\n",
              " 'どんな出来事にも',\n",
              " 'それなりに そう 意味があるさ',\n",
              " 'へんな人にアクセスされて',\n",
              " 'バランスをくずしそう',\n",
              " '誰もが迷子だね',\n",
              " '誰もがひたむきに わけあり',\n",
              " 'たましいは輝きたい',\n",
              " 'Shake it Shake it Baby',\n",
              " '他のヤツが好きな君を',\n",
              " '眼が覚めてすぐに思い出す',\n",
              " 'エネルギーが やせてしぼむ',\n",
              " '今日も歯ぐきがはれている',\n",
              " 'どうしようもない せつなさは',\n",
              " '誰の真上にも降るから',\n",
              " 'はじめて さかあがりが出来た',\n",
              " '遠い夏を',\n",
              " '思い出すよ',\n",
              " 'どんな出来事にも',\n",
              " 'それなりに そう 意味があるさ',\n",
              " 'こんな謎だらけの若さ',\n",
              " '早くヤメにしたいよ',\n",
              " '寝起きがわるいのも',\n",
              " 'みみたぶ火照(ほて)るのも わけあり',\n",
              " '不器用に今日を行こう',\n",
              " 'Shake it Shake it Baby…talata…',\n",
              " 'Shake it Shake it Baby',\n",
              " 'どんな出来事にも',\n",
              " 'それなりに そう 意味があるさ',\n",
              " 'へんな人にアクセスされて',\n",
              " 'バランスをくずしそう',\n",
              " '誰もが迷子だね',\n",
              " '誰もがひたむきに わけあり',\n",
              " 'たましいは輝きたい',\n",
              " 'Shake it Shake it Baby',\n",
              " 'Reason もどかしすぎるSeason',\n",
              " 'Reason 知りたいことは見えない',\n",
              " 'Reason あこがれてたいHorizon',\n",
              " 'Reason 真実が見渡せる場所',\n",
              " 'Reason いつかみつけるFortune',\n",
              " 'Reason いとおしい自分でいよう']"
            ]
          },
          "metadata": {
            "tags": []
          },
          "execution_count": 51
        }
      ]
    },
    {
      "cell_type": "code",
      "metadata": {
        "id": "z1F_p5HeLvuZ",
        "colab_type": "code",
        "colab": {
          "base_uri": "https://localhost:8080/",
          "height": 986
        },
        "outputId": "a2537ade-878f-4d0b-d0e9-470769dccb66"
      },
      "source": [
        "semantic_kashi"
      ],
      "execution_count": 50,
      "outputs": [
        {
          "output_type": "execute_result",
          "data": {
            "text/plain": [
              "['どんな出来事にも どんな出来事にも',\n",
              " ' それなりに そう 意味があるさ',\n",
              " ' こんな謎だらけの若さ',\n",
              " ' 早くヤメにしたいよ',\n",
              " '寝起きがわるいのも 寝起きがわるいのも',\n",
              " 'みみたぶ火照(ほて)るのも わけあり みみたぶ火照(ほて)るのも わけあり',\n",
              " ' 不器用に今日を行こう',\n",
              " ' Shake it Shake it Baby',\n",
              " ' 街角のにぎやかさに',\n",
              " 'のれなくて困る時がある のれなくて困る時がある',\n",
              " ' クツズレのせいにしてる',\n",
              " '気がかりは何? 聞かないで気がかりは何? 聞かないで 気がかりは何? 聞かないで',\n",
              " ' コンビニの雑誌コーナーで',\n",
              " ' となり合った他人どうし',\n",
              " ' わけのわからない やるせなさ',\n",
              " ' キレないように',\n",
              " '越えてこうぜ 越えてこうぜ',\n",
              " 'どんな出来事にも どんな出来事にも',\n",
              " ' それなりに そう 意味があるさ',\n",
              " 'へんな人にアクセスされて へんな人にアクセスされて',\n",
              " ' バランスをくずしそう',\n",
              " '誰もが迷子だね 誰もが迷子だね',\n",
              " '誰もがひたむきに わけあり 誰もがひたむきに わけあり',\n",
              " 'たましいは輝きたい たましいは輝きたい',\n",
              " ' Shake it Shake it Baby',\n",
              " ' 他のヤツが好きな君を',\n",
              " '眼が覚めてすぐに思い出す 眼が覚めてすぐに思い出す',\n",
              " 'エネルギーが やせてしぼむ エネルギーが やせてしぼむ',\n",
              " '今日も歯ぐきがはれている今日も歯ぐきがはれている 今日も歯ぐきがはれている',\n",
              " 'どうしようもない せつなさはどうしようもない せつなさは どうしようもない せつなさは',\n",
              " '誰の真上にも降るから誰の真上にも降るから 誰の真上にも降るから',\n",
              " ' はじめて さかあがりが出来た',\n",
              " ' 遠い夏を',\n",
              " ' 思い出すよ',\n",
              " 'どんな出来事にも どんな出来事にも',\n",
              " ' それなりに そう 意味があるさ',\n",
              " ' こんな謎だらけの若さ',\n",
              " ' 早くヤメにしたいよ',\n",
              " '寝起きがわるいのも 寝起きがわるいのも',\n",
              " 'みみたぶ火照(ほて)るのも わけあり みみたぶ火照(ほて)るのも わけあり',\n",
              " ' 不器用に今日を行こう',\n",
              " ' Shake it Shake it Baby…talata…',\n",
              " ' Shake it Shake it Baby',\n",
              " 'どんな出来事にも どんな出来事にも',\n",
              " ' それなりに そう 意味があるさ',\n",
              " 'へんな人にアクセスされて へんな人にアクセスされて',\n",
              " ' バランスをくずしそう',\n",
              " '誰もが迷子だね 誰もが迷子だね',\n",
              " '誰もがひたむきに わけあり 誰もがひたむきに わけあり',\n",
              " 'たましいは輝きたい たましいは輝きたい',\n",
              " ' Shake it Shake it Baby',\n",
              " 'Reason もどかしすぎるSeason Reason もどかしすぎるSeason',\n",
              " 'Reason 知りたいことは見えない Reason 知りたいことは見えない',\n",
              " ' Reason あこがれてたいHorizon',\n",
              " ' Reason 真実が見渡せる場所',\n",
              " ' Reason いつかみつけるFortune',\n",
              " ' Reason いとおしい自分でいよう']"
            ]
          },
          "metadata": {
            "tags": []
          },
          "execution_count": 50
        }
      ]
    },
    {
      "cell_type": "code",
      "metadata": {
        "id": "EzK2xdNDOa95",
        "colab_type": "code",
        "colab": {
          "base_uri": "https://localhost:8080/",
          "height": 255
        },
        "outputId": "01ab643c-5dfe-48cd-851d-5ca03447cc34"
      },
      "source": [
        "node = tagger.parseToNode('みみたぶ火照(ほて)るのも わけあり')\n",
        "while node:\n",
        "    print(node.feature)\n",
        "    node = node.next"
      ],
      "execution_count": 23,
      "outputs": [
        {
          "output_type": "stream",
          "text": [
            "BOS/EOS,*,*,*,*,*,*,*,*\n",
            "動詞,自立,*,*,一段,連用形,みる,ミ,ミ\n",
            "動詞,非自立,*,*,一段,連用形,みる,ミ,ミ\n",
            "動詞,自立,*,*,四段・バ行,基本形,たぶ,タブ,タブ\n",
            "動詞,自立,*,*,五段・ラ行,体言接続特殊２,火照る,ホテ,ホテ\n",
            "名詞,サ変接続,*,*,*,*,*\n",
            "動詞,自立,*,*,五段・ラ行,体言接続特殊２,ほてる,ホテ,ホテ\n",
            "名詞,サ変接続,*,*,*,*,*\n",
            "助動詞,*,*,*,文語・リ,体言接続,り,ル,ル\n",
            "名詞,非自立,一般,*,*,*,の,ノ,ノ\n",
            "助詞,係助詞,*,*,*,*,も,モ,モ\n",
            "動詞,自立,*,*,一段,連用形,わける,ワケ,ワケ\n",
            "動詞,非自立,*,*,五段・ラ行,連用形,ある,アリ,アリ\n",
            "BOS/EOS,*,*,*,*,*,*,*,*\n"
          ],
          "name": "stdout"
        }
      ]
    },
    {
      "cell_type": "code",
      "metadata": {
        "id": "fAKhakQUPAIv",
        "colab_type": "code",
        "colab": {}
      },
      "source": [
        ""
      ],
      "execution_count": 0,
      "outputs": []
    }
  ]
}