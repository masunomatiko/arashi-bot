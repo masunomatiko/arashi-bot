{
  "nbformat": 4,
  "nbformat_minor": 0,
  "metadata": {
    "colab": {
      "name": "なんでも嵐の歌詞で返してくるbot.ipynb",
      "provenance": [],
      "authorship_tag": "ABX9TyPIuFtvj3hDUITrdF5iFGJv",
      "include_colab_link": true
    },
    "kernelspec": {
      "name": "python3",
      "display_name": "Python 3"
    }
  },
  "cells": [
    {
      "cell_type": "markdown",
      "metadata": {
        "id": "view-in-github",
        "colab_type": "text"
      },
      "source": [
        "<a href=\"https://colab.research.google.com/github/masunomatiko/arashi-bot/blob/master/%E3%81%AA%E3%82%93%E3%81%A7%E3%82%82%E5%B5%90%E3%81%AE%E6%AD%8C%E8%A9%9E%E3%81%A7%E8%BF%94%E3%81%97%E3%81%A6%E3%81%8F%E3%82%8Bbot.ipynb\" target=\"_parent\"><img src=\"https://colab.research.google.com/assets/colab-badge.svg\" alt=\"Open In Colab\"/></a>"
      ]
    },
    {
      "cell_type": "code",
      "metadata": {
        "id": "sJH_apgdKevj",
        "colab_type": "code",
        "colab": {
          "base_uri": "https://localhost:8080/",
          "height": 459
        },
        "outputId": "e038b22f-cc68-4393-ebb9-311423c5a39d"
      },
      "source": [
        "! apt install aptitude\n",
        "!aptitude install mecab libmecab-dev mecab-ipadic-utf8 git make curl xz-utils file -y\n",
        "!pip install mecab-python3"
      ],
      "execution_count": 2,
      "outputs": [
        {
          "output_type": "stream",
          "text": [
            "Reading package lists... Done\n",
            "Building dependency tree       \n",
            "Reading state information... Done\n",
            "aptitude is already the newest version (0.8.10-6ubuntu1).\n",
            "0 upgraded, 0 newly installed, 0 to remove and 25 not upgraded.\n",
            "mecab is already installed at the requested version (0.996-5)\n",
            "libmecab-dev is already installed at the requested version (0.996-5)\n",
            "mecab-ipadic-utf8 is already installed at the requested version (2.7.0-20070801+main-1)\n",
            "git is already installed at the requested version (1:2.17.1-1ubuntu0.5)\n",
            "make is already installed at the requested version (4.1-9.1ubuntu1)\n",
            "curl is already installed at the requested version (7.58.0-2ubuntu3.8)\n",
            "xz-utils is already installed at the requested version (5.2.2-1.3)\n",
            "file is already installed at the requested version (1:5.32-2ubuntu0.3)\n",
            "mecab is already installed at the requested version (0.996-5)\n",
            "libmecab-dev is already installed at the requested version (0.996-5)\n",
            "mecab-ipadic-utf8 is already installed at the requested version (2.7.0-20070801+main-1)\n",
            "git is already installed at the requested version (1:2.17.1-1ubuntu0.5)\n",
            "make is already installed at the requested version (4.1-9.1ubuntu1)\n",
            "curl is already installed at the requested version (7.58.0-2ubuntu3.8)\n",
            "xz-utils is already installed at the requested version (5.2.2-1.3)\n",
            "file is already installed at the requested version (1:5.32-2ubuntu0.3)\n",
            "No packages will be installed, upgraded, or removed.\n",
            "0 packages upgraded, 0 newly installed, 0 to remove and 25 not upgraded.\n",
            "Need to get 0 B of archives. After unpacking 0 B will be used.\n",
            "                            \n",
            "Requirement already satisfied: mecab-python3 in /usr/local/lib/python3.6/dist-packages (0.996.3)\n"
          ],
          "name": "stdout"
        }
      ]
    },
    {
      "cell_type": "code",
      "metadata": {
        "id": "WjDA3rPMD1-1",
        "colab_type": "code",
        "colab": {}
      },
      "source": [
        "import requests\n",
        "import pandas as pd\n",
        "import re\n",
        "import MeCab"
      ],
      "execution_count": 0,
      "outputs": []
    },
    {
      "cell_type": "code",
      "metadata": {
        "id": "sBBo5vs7EE96",
        "colab_type": "code",
        "colab": {}
      },
      "source": [
        "base = 'https://www.uta-net.com'\n",
        "links = []\n",
        "for page in [1, 2]:\n",
        "    url = f'https://www.uta-net.com/artist/3891/0/{page}/'\n",
        "    res = requests.get(url)\n",
        "    links += re.findall(r'/song/[0-9]+/', res.text)\n"
      ],
      "execution_count": 0,
      "outputs": []
    },
    {
      "cell_type": "code",
      "metadata": {
        "id": "h6v8fikbE8Y6",
        "colab_type": "code",
        "colab": {}
      },
      "source": [
        "# for link in links:\n",
        "link = links[2]\n",
        "url = base + link\n",
        "res = requests.get(url)"
      ],
      "execution_count": 0,
      "outputs": []
    },
    {
      "cell_type": "code",
      "metadata": {
        "id": "sxEqHtEXFpg5",
        "colab_type": "code",
        "colab": {}
      },
      "source": [
        "kashi = [re.sub('\\([あ-ん]+\\)', '', line) for line in re.findall(r'<div id=\"kashi_area\" itemprop=\"text\">(.*)</div>', res.text)[0]\\\n",
        "         .replace('\\u3000', ' ')\\\n",
        "         .split('<br />')\\\n",
        "         if len(line) > 0]"
      ],
      "execution_count": 0,
      "outputs": []
    },
    {
      "cell_type": "code",
      "metadata": {
        "id": "Bxdr-KpyI1-k",
        "colab_type": "code",
        "colab": {}
      },
      "source": [
        "tagger = MeCab.Tagger(\"-Owakati\")"
      ],
      "execution_count": 0,
      "outputs": []
    },
    {
      "cell_type": "code",
      "metadata": {
        "id": "wvVgFei9LRJV",
        "colab_type": "code",
        "colab": {}
      },
      "source": [
        "semantic_kashi = []\n",
        "skip = False\n",
        "tmp = []"
      ],
      "execution_count": 0,
      "outputs": []
    },
    {
      "cell_type": "code",
      "metadata": {
        "id": "56jVVF6eLWDI",
        "colab_type": "code",
        "colab": {}
      },
      "source": [
        "for phrase in kashi:\n",
        "    pos = []\n",
        "    node = tagger.parseToNode(phrase)\n",
        "    while node:\n",
        "        pos.append(node.feature.split(',')[1])\n",
        "        node = node.next\n",
        "\n",
        "    if pos[-2] in ['接続助詞', '係助詞', '格助詞', '連体化', '副詞化']:\n",
        "        tmp.append(phrase)\n",
        "\n",
        "    elif len(tmp) > 0:\n",
        "        semantic_kashi.append(' '.join(tmp) + ' ' +  phrase)\n",
        "        tmp.clear()\n",
        "\n",
        "    else:\n",
        "        semantic_kashi.append(phrase)"
      ],
      "execution_count": 0,
      "outputs": []
    },
    {
      "cell_type": "code",
      "metadata": {
        "id": "z1F_p5HeLvuZ",
        "colab_type": "code",
        "colab": {
          "base_uri": "https://localhost:8080/",
          "height": 527
        },
        "outputId": "b13a75c5-3e32-4e49-f768-0149e0835864"
      },
      "source": [
        "# kashi\n",
        "semantic_kashi"
      ],
      "execution_count": 147,
      "outputs": [
        {
          "output_type": "execute_result",
          "data": {
            "text/plain": [
              "['存在もいつかは溶けてく 対面の先には日差しあふれ',\n",
              " '結論ばかりな超理論 まわる まわるよ',\n",
              " '真面目に日々を過ごしてきただけ 今更でも ここから 今から 変わりたいんだ',\n",
              " '確かに今 かすかに今 君に乱されるまま',\n",
              " 'こんな時でも思い出す 笑顔が眩しくて こんなに愛したい 君に恋したい',\n",
              " 'まだまだまだ 恋がないない',\n",
              " 'そうじゃない こうなっちゃしょうがない',\n",
              " '独断的な気ままで Ah',\n",
              " '止められない 今ならリアルに Say Goodbye',\n",
              " '掌の言葉に Say Hello',\n",
              " 'きっと何かが変わる その時までに Goodbye',\n",
              " 'タイミングばかりが過ぎてく クールが取り柄とキメた矢先',\n",
              " '点滅が続くシグナル めぐる めぐるよ',\n",
              " '明日もただ 過ぎる季節 君は気づかないまま',\n",
              " 'そんな時でも知らんぷり 自分がかなしくて それでも愛したい 本当の恋したい',\n",
              " 'まだまだまだ そこじゃないない',\n",
              " 'そうじゃない こんなもんじゃない',\n",
              " '傲慢的な妄想さえ Ah',\n",
              " '止められない 君への気持ちに Say Goodbye',\n",
              " '言えそうにない言葉は Say Hello',\n",
              " 'やっと何かに気づく ひとりよがりに Goodbye',\n",
              " '新しい季節 新しい光 新しい風が ゆっくり僕を連れてく',\n",
              " '愛したい 君に恋したい',\n",
              " 'まだまだまだ 恋がないない',\n",
              " 'そうじゃない こうなっちゃしょうがない',\n",
              " '独断的な気ままで Ah',\n",
              " '止められない 今ならリアルに Say Goodbye',\n",
              " '掌の言葉に Say Hello',\n",
              " 'きっと何かが変わる その時までに Goodbye',\n",
              " '昨日にはGoodbye...']"
            ]
          },
          "metadata": {
            "tags": []
          },
          "execution_count": 147
        }
      ]
    },
    {
      "cell_type": "code",
      "metadata": {
        "id": "qWn0Y7qjZr4y",
        "colab_type": "code",
        "colab": {}
      },
      "source": [
        ""
      ],
      "execution_count": 0,
      "outputs": []
    }
  ]
}